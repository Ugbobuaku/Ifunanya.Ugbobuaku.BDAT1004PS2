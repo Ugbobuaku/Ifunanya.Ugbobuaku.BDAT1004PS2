{
 "cells": [
  {
   "cell_type": "code",
   "execution_count": 1,
   "id": "42a45c8a",
   "metadata": {},
   "outputs": [],
   "source": [
    "# Question 1:Consider the following Python module:\n",
    "    \n",
    "a = 0   # A has a global scope\n",
    "def b():\n",
    "    global a # all references to a in b() are to the global a\n",
    "    a = c(a) # Global a is changed\n",
    "def c(a):\n",
    "    return a + 2 # this a is the global a\n"
   ]
  },
  {
   "cell_type": "code",
   "execution_count": 2,
   "id": "d2488516",
   "metadata": {},
   "outputs": [],
   "source": [
    "b()"
   ]
  },
  {
   "cell_type": "code",
   "execution_count": 3,
   "id": "fa783d94",
   "metadata": {},
   "outputs": [],
   "source": [
    "b()"
   ]
  },
  {
   "cell_type": "code",
   "execution_count": 4,
   "id": "fad7b459",
   "metadata": {},
   "outputs": [],
   "source": [
    "b()"
   ]
  },
  {
   "cell_type": "code",
   "execution_count": 5,
   "id": "d0d2d370",
   "metadata": {},
   "outputs": [
    {
     "data": {
      "text/plain": [
       "6"
      ]
     },
     "execution_count": 5,
     "metadata": {},
     "output_type": "execute_result"
    }
   ],
   "source": [
    "a"
   ]
  },
  {
   "cell_type": "markdown",
   "id": "126e9ea4",
   "metadata": {},
   "source": [
    "Explanation: The value displayed is 6, a is a global variable, method b refers the global variable a and then passes it on to method c where 2 is added the value of a everytime the method is called."
   ]
  },
  {
   "cell_type": "code",
   "execution_count": 2,
   "id": "21cb9c09",
   "metadata": {},
   "outputs": [],
   "source": [
    "#Question 2:Function fileLength(), given to you, takes the name of a file as input and returns the length of the file.\n",
    "\n",
    "import sys\n",
    "\n",
    "def file_length(file_name):\n",
    "    try:\n",
    "        file = open(file_name)\n",
    "        contents = file.read()\n",
    "        file.close()\n",
    "        print(len(contents)) \n",
    "    except FileNotFoundError: #prints file not found\n",
    "        print(\"File \"+ file_name+ \"not found\")"
   ]
  },
  {
   "cell_type": "code",
   "execution_count": 3,
   "id": "4b1423f0",
   "metadata": {},
   "outputs": [
    {
     "name": "stdout",
     "output_type": "stream",
     "text": [
      "123\n"
     ]
    }
   ],
   "source": [
    " file_length('FileLength.txt')"
   ]
  },
  {
   "cell_type": "code",
   "execution_count": 4,
   "id": "ea0edc5a",
   "metadata": {},
   "outputs": [
    {
     "name": "stdout",
     "output_type": "stream",
     "text": [
      "File ileLength.txtnot found\n"
     ]
    }
   ],
   "source": [
    "file_length(\"ileLength.txt\")"
   ]
  },
  {
   "cell_type": "code",
   "execution_count": 11,
   "id": "f9442191",
   "metadata": {},
   "outputs": [],
   "source": [
    "# Question 3: Write a class named Marsupial that can be used as shown below:\n",
    "\n",
    "class Marsupial():\n",
    "    def __init__(self):\n",
    "        self.pouche = []\n",
    "    def put_in_pouch(self,value):\n",
    "        self.pouche.append(value) # Add Item to the Pouche\n",
    "    def pouch_contents(self): # List out Pouche Contents\n",
    "        print(self.pouche) \n"
   ]
  },
  {
   "cell_type": "code",
   "execution_count": 12,
   "id": "7ffa5a34",
   "metadata": {},
   "outputs": [],
   "source": [
    "m = Marsupial()"
   ]
  },
  {
   "cell_type": "code",
   "execution_count": 13,
   "id": "8934f7be",
   "metadata": {},
   "outputs": [],
   "source": [
    "m.put_in_pouch('doll')"
   ]
  },
  {
   "cell_type": "code",
   "execution_count": 14,
   "id": "67253a2e",
   "metadata": {},
   "outputs": [],
   "source": [
    "m.put_in_pouch('firetruck')"
   ]
  },
  {
   "cell_type": "code",
   "execution_count": 15,
   "id": "efd48ad8",
   "metadata": {},
   "outputs": [],
   "source": [
    "m.put_in_pouch('kitten')"
   ]
  },
  {
   "cell_type": "code",
   "execution_count": 16,
   "id": "46eef66b",
   "metadata": {},
   "outputs": [
    {
     "name": "stdout",
     "output_type": "stream",
     "text": [
      "['doll', 'firetruck', 'kitten']\n"
     ]
    }
   ],
   "source": [
    "m.pouch_contents()"
   ]
  },
  {
   "cell_type": "code",
   "execution_count": 20,
   "id": "c328a7cd",
   "metadata": {},
   "outputs": [],
   "source": [
    "#Question 3 part 2:Now write a class named Kangaroo as a subclass of Marsupial that inherits all the attributes of Marsupial\n",
    "\n",
    "class Kangaroo(Marsupial):\n",
    "    def __init__(self,x,y):\n",
    "        super().__init__() #It will Inherit the constructor of Marsupial\n",
    "        self.x = x\n",
    "        self.y = y\n",
    "    def jump(self,dx,dy):\n",
    "        self.x = self.x + dx\n",
    "        self.y = self.y + dy\n",
    "    def __str__(self):\n",
    "        return(f\"I am a Kangaroo located at coordinates ({self.x},{self.y})\")\n",
    "    \n"
   ]
  },
  {
   "cell_type": "code",
   "execution_count": 21,
   "id": "09f93426",
   "metadata": {},
   "outputs": [],
   "source": [
    "k = Kangaroo(0,0)"
   ]
  },
  {
   "cell_type": "code",
   "execution_count": 22,
   "id": "404a48b9",
   "metadata": {},
   "outputs": [
    {
     "name": "stdout",
     "output_type": "stream",
     "text": [
      "I am a Kangaroo located at coordinates (0,0)\n"
     ]
    }
   ],
   "source": [
    "print(k)"
   ]
  },
  {
   "cell_type": "code",
   "execution_count": 23,
   "id": "f6434d72",
   "metadata": {},
   "outputs": [],
   "source": [
    "k.put_in_pouch('doll')"
   ]
  },
  {
   "cell_type": "code",
   "execution_count": 24,
   "id": "9ac4a207",
   "metadata": {},
   "outputs": [],
   "source": [
    "k.put_in_pouch('firetruck')"
   ]
  },
  {
   "cell_type": "code",
   "execution_count": 25,
   "id": "bd1a760d",
   "metadata": {},
   "outputs": [],
   "source": [
    "k.put_in_pouch('kitten')"
   ]
  },
  {
   "cell_type": "code",
   "execution_count": 26,
   "id": "92189f74",
   "metadata": {},
   "outputs": [
    {
     "name": "stdout",
     "output_type": "stream",
     "text": [
      "['doll', 'firetruck', 'kitten']\n"
     ]
    }
   ],
   "source": [
    "k.pouch_contents()"
   ]
  },
  {
   "cell_type": "code",
   "execution_count": 27,
   "id": "29b4aa06",
   "metadata": {},
   "outputs": [],
   "source": [
    "k.jump(1,0)"
   ]
  },
  {
   "cell_type": "code",
   "execution_count": 28,
   "id": "2546c099",
   "metadata": {},
   "outputs": [],
   "source": [
    "k.jump(1,0)"
   ]
  },
  {
   "cell_type": "code",
   "execution_count": 29,
   "id": "db636c86",
   "metadata": {},
   "outputs": [],
   "source": [
    "k.jump(1,0)"
   ]
  },
  {
   "cell_type": "code",
   "execution_count": 30,
   "id": "5284bffe",
   "metadata": {},
   "outputs": [
    {
     "name": "stdout",
     "output_type": "stream",
     "text": [
      "I am a Kangaroo located at coordinates (3,0)\n"
     ]
    }
   ],
   "source": [
    "print(k)"
   ]
  },
  {
   "cell_type": "code",
   "execution_count": 45,
   "id": "5bb7d66b",
   "metadata": {},
   "outputs": [],
   "source": [
    "#Question 4: Write function collatz() that takes a positive integer x as input and prints the Collatz sequence starting at x. A Collatz sequence is obtained by repeatedly applying this rule to the previous number x in the sequence:\n",
    "\n",
    "def collatz(x):\n",
    "    if x == 1: \n",
    "        return x\n",
    "    elif (x % 2==0): #Compute the modulus of X\n",
    "        print (x)\n",
    "        x=(collatz(x//2)) #Round down to one digit\n",
    "        return x\n",
    "    else:\n",
    "        print (x)\n",
    "        x=(collatz(x*3+1)) #Convert all Odd numbers to even \n",
    "        return x       \n",
    "    "
   ]
  },
  {
   "cell_type": "code",
   "execution_count": 46,
   "id": "0acbb147",
   "metadata": {},
   "outputs": [
    {
     "data": {
      "text/plain": [
       "1"
      ]
     },
     "execution_count": 46,
     "metadata": {},
     "output_type": "execute_result"
    }
   ],
   "source": [
    "collatz(1)"
   ]
  },
  {
   "cell_type": "code",
   "execution_count": 47,
   "id": "14033698",
   "metadata": {},
   "outputs": [
    {
     "name": "stdout",
     "output_type": "stream",
     "text": [
      "10\n",
      "5\n",
      "16\n",
      "8\n",
      "4\n",
      "2\n"
     ]
    },
    {
     "data": {
      "text/plain": [
       "1"
      ]
     },
     "execution_count": 47,
     "metadata": {},
     "output_type": "execute_result"
    }
   ],
   "source": [
    "collatz(10)"
   ]
  },
  {
   "cell_type": "code",
   "execution_count": 5,
   "id": "175d6fc2",
   "metadata": {},
   "outputs": [],
   "source": [
    "# Question 5: Write a recursive method binary() that takes a non-negative integer n and prints the binary representation of integer n.\n",
    "\n",
    "def binary(n):\n",
    "    if n == 0:\n",
    "        return 0 \n",
    "    else:\n",
    "        return (n % 2 + 10 * binary(int(n // 2))) #Print out the binary numbers of Integer n\n",
    "    "
   ]
  },
  {
   "cell_type": "code",
   "execution_count": 6,
   "id": "1a12c96d",
   "metadata": {},
   "outputs": [
    {
     "data": {
      "text/plain": [
       "0"
      ]
     },
     "execution_count": 6,
     "metadata": {},
     "output_type": "execute_result"
    }
   ],
   "source": [
    "binary(0)"
   ]
  },
  {
   "cell_type": "code",
   "execution_count": 7,
   "id": "39cfc377",
   "metadata": {},
   "outputs": [
    {
     "data": {
      "text/plain": [
       "1"
      ]
     },
     "execution_count": 7,
     "metadata": {},
     "output_type": "execute_result"
    }
   ],
   "source": [
    "binary(1)"
   ]
  },
  {
   "cell_type": "code",
   "execution_count": 8,
   "id": "150d27de",
   "metadata": {},
   "outputs": [
    {
     "data": {
      "text/plain": [
       "11"
      ]
     },
     "execution_count": 8,
     "metadata": {},
     "output_type": "execute_result"
    }
   ],
   "source": [
    "binary(3)"
   ]
  },
  {
   "cell_type": "code",
   "execution_count": 9,
   "id": "21869348",
   "metadata": {},
   "outputs": [
    {
     "data": {
      "text/plain": [
       "1001"
      ]
     },
     "execution_count": 9,
     "metadata": {},
     "output_type": "execute_result"
    }
   ],
   "source": [
    "binary(9)"
   ]
  },
  {
   "cell_type": "code",
   "execution_count": 129,
   "id": "2f13949d",
   "metadata": {},
   "outputs": [],
   "source": [
    "#Question 6: Implement a class named HeadingParser......\n",
    "\n",
    "from html.parser import HTMLParser\n",
    "\n",
    "class HeadingParser(HTMLParser):\n",
    "    def __init__(self):\n",
    "        super().__init__()\n",
    "        self.check = 0\n",
    "    def handle_starttag(self, tag, attrs): #Handle the end tag\n",
    "        if tag in (\"h1\",\"h2\"):\n",
    "            self.check = 1\n",
    "    def handle_endtag(self, tag): #Handle the end tag\n",
    "        if tag in (\"h1\",\"h2\"):\n",
    "            self.check = 0\n",
    "    def handle_data(self, text):\n",
    "        if(self.check ==1):         \n",
    "            print(text)\n",
    "        \n"
   ]
  },
  {
   "cell_type": "code",
   "execution_count": 130,
   "id": "ea8b00c7",
   "metadata": {},
   "outputs": [],
   "source": [
    "infile = open('w3c.html')"
   ]
  },
  {
   "cell_type": "code",
   "execution_count": 131,
   "id": "bdb72ebd",
   "metadata": {},
   "outputs": [],
   "source": [
    "content = infile.read()"
   ]
  },
  {
   "cell_type": "code",
   "execution_count": 132,
   "id": "2f78139a",
   "metadata": {},
   "outputs": [],
   "source": [
    "infile.close()"
   ]
  },
  {
   "cell_type": "code",
   "execution_count": 133,
   "id": "956df104",
   "metadata": {},
   "outputs": [],
   "source": [
    "hp = HeadingParser()"
   ]
  },
  {
   "cell_type": "code",
   "execution_count": 134,
   "id": "d04e03d5",
   "metadata": {},
   "outputs": [
    {
     "name": "stdout",
     "output_type": "stream",
     "text": [
      "W3C Mission\n",
      "Principles\n"
     ]
    }
   ],
   "source": [
    "hp.feed(content)"
   ]
  },
  {
   "cell_type": "code",
   "execution_count": 1,
   "id": "434f4de1",
   "metadata": {},
   "outputs": [
    {
     "name": "stdout",
     "output_type": "stream",
     "text": [
      "     http://reed.cs.depaul.edu//rjagadeesan/\n",
      "      http://reed.cs.depaul.edu//rjagadeesan//wmarrero/\n",
      "       http://reed.cs.depaul.edu//rjagadeesan//wmarrero//cpitcher/\n",
      "        http://reed.cs.depaul.edu//rjagadeesan//wmarrero//cpitcher//jriely/\n"
     ]
    }
   ],
   "source": [
    "#Question 7 Implement recursive function webdir() that takes as input:\n",
    "\n",
    "#install Beautiful Soup library using --- pip install beautifulsoup4---\n",
    "#import bs4 from Beautiful Soup library and requests\n",
    "from bs4 import BeautifulSoup \n",
    "import requests\n",
    "\n",
    "# create an empty list \"listofurls\" to store urls \n",
    "listofurls=[]\n",
    "\n",
    "# Create a function call urlscrape that will accept site's url as string\n",
    "def urlscrape(website):\n",
    "    #pull the request from url\n",
    "    rq = requests.get(website)\n",
    "\n",
    "    # Perform conversion on the supplied text\n",
    "    s = BeautifulSoup(rq.text,\"html.parser\")\n",
    "\n",
    "    for i in s.find_all(\"a\"):\n",
    "        href = i.attrs['href']\n",
    "        indent = 4\n",
    "        indentation = indent* \" \"\n",
    "        if href.startswith(\"/\"):\n",
    "            website = website+href\n",
    "            if website not in listofurls:\n",
    "                listofurls.append(website)\n",
    "                indentation = (len(listofurls)+indent) * \" \"\n",
    "                print(indentation +website)\n",
    "                # perform recursive to be calling it self\n",
    "                urlscrape(website)\n",
    "# main function\n",
    "if __name__ ==\"__main__\":\n",
    "\n",
    "    # supply the website to be scrape\n",
    "    website=\"http://reed.cs.depaul.edu/\"\n",
    "\n",
    "    # Let call the function to see it in action\n",
    "    urlscrape(website)"
   ]
  },
  {
   "cell_type": "code",
   "execution_count": null,
   "id": "b8a33e13",
   "metadata": {},
   "outputs": [],
   "source": [
    "#Question 8 Write SQL queries on the below database table that return:\n",
    "\n",
    "import pandas as pd\n",
    "# Importing a CSV file.\n",
    "df = pd.read_csv(\"dataset_python.csv\")\n",
    "df.head()\n",
    "\n",
    "a: SELECT temperature from df #returns all the temperate data\n",
    "b: SELECT distinct city from df #returns all the cities without repetition\n",
    "c: SELECT * from df where country='India'; #returns all records for India\n",
    "d: SELECT * from df where season='Fall'; #return all fall records\n",
    "e: SELECT city, country, season from df where rainfaill >= 200 and rainfall <= 400; \n",
    "f: SELECT city, country from df where temperature>20 order by temperature ASC;\n",
    "g: SELECT count(rainfall) from df where city='Cairo';\n",
    "h: SELECT rainfall, count(rainfall) from tablename group by rainfall;"
   ]
  },
  {
   "cell_type": "code",
   "execution_count": 74,
   "id": "6cea7a95",
   "metadata": {},
   "outputs": [],
   "source": [
    "#Question 9:Suppose list words is defined as follows\n",
    "\n",
    "words = ['The', 'quick', 'brown', 'fox', 'jumps', 'over', 'the', 'lazy', 'dog']"
   ]
  },
  {
   "cell_type": "code",
   "execution_count": 76,
   "id": "a3b095d5",
   "metadata": {},
   "outputs": [
    {
     "data": {
      "text/plain": [
       "['THE', 'QUICK', 'BROWN', 'FOX', 'JUMPS', 'OVER', 'THE', 'LAZY', 'DOG']"
      ]
     },
     "execution_count": 76,
     "metadata": {},
     "output_type": "execute_result"
    }
   ],
   "source": [
    "[word.upper() for word in words] # prints all word in Uppercase form"
   ]
  },
  {
   "cell_type": "code",
   "execution_count": 77,
   "id": "c4ebb8b2",
   "metadata": {},
   "outputs": [
    {
     "data": {
      "text/plain": [
       "['the', 'quick', 'brown', 'fox', 'jumps', 'over', 'the', 'lazy', 'dog']"
      ]
     },
     "execution_count": 77,
     "metadata": {},
     "output_type": "execute_result"
    }
   ],
   "source": [
    "[word.lower() for word in words] #Print all word in lowercase form"
   ]
  },
  {
   "cell_type": "code",
   "execution_count": 84,
   "id": "5e0267f7",
   "metadata": {},
   "outputs": [
    {
     "data": {
      "text/plain": [
       "[3, 5, 5, 3, 5, 4, 3, 4, 3]"
      ]
     },
     "execution_count": 84,
     "metadata": {},
     "output_type": "execute_result"
    }
   ],
   "source": [
    "[len(word) for word in words] #prints the length of each word"
   ]
  },
  {
   "cell_type": "code",
   "execution_count": 85,
   "id": "18ae4c36",
   "metadata": {},
   "outputs": [
    {
     "data": {
      "text/plain": [
       "['THE',\n",
       " 'the',\n",
       " 3,\n",
       " 'QUICK',\n",
       " 'quick',\n",
       " 5,\n",
       " 'BROWN',\n",
       " 'brown',\n",
       " 5,\n",
       " 'FOX',\n",
       " 'fox',\n",
       " 3,\n",
       " 'JUMPS',\n",
       " 'jumps',\n",
       " 5,\n",
       " 'OVER',\n",
       " 'over',\n",
       " 4,\n",
       " 'THE',\n",
       " 'the',\n",
       " 3,\n",
       " 'LAZY',\n",
       " 'lazy',\n",
       " 4,\n",
       " 'DOG',\n",
       " 'dog',\n",
       " 3]"
      ]
     },
     "execution_count": 85,
     "metadata": {},
     "output_type": "execute_result"
    }
   ],
   "source": [
    "# Print the list containing word in uppercase and lowercase and the length of the word.\n",
    "from itertools import chain\n",
    "\n",
    "[[word.upper()]]\n",
    "list(chain.from_iterable((word.upper(),word.lower(),len(word)) for word in words))"
   ]
  },
  {
   "cell_type": "code",
   "execution_count": 87,
   "id": "190170d8",
   "metadata": {},
   "outputs": [
    {
     "data": {
      "text/plain": [
       "['quick', 'brown', 'jumps', 'over', 'lazy']"
      ]
     },
     "execution_count": 87,
     "metadata": {},
     "output_type": "execute_result"
    }
   ],
   "source": [
    "# Returns all word containing 4 or more characters\n",
    "[word for word in words if len(word)>=4]"
   ]
  }
 ],
 "metadata": {
  "kernelspec": {
   "display_name": "Python 3 (ipykernel)",
   "language": "python",
   "name": "python3"
  },
  "language_info": {
   "codemirror_mode": {
    "name": "ipython",
    "version": 3
   },
   "file_extension": ".py",
   "mimetype": "text/x-python",
   "name": "python",
   "nbconvert_exporter": "python",
   "pygments_lexer": "ipython3",
   "version": "3.9.12"
  }
 },
 "nbformat": 4,
 "nbformat_minor": 5
}
